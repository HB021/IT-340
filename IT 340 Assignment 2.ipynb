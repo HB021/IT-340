{
 "cells": [
  {
   "cell_type": "markdown",
   "id": "02d2c696",
   "metadata": {},
   "source": [
    "# Printing stacks"
   ]
  },
  {
   "cell_type": "code",
   "execution_count": 21,
   "id": "e5456042",
   "metadata": {},
   "outputs": [
    {
     "name": "stdout",
     "output_type": "stream",
     "text": [
      "Nothing to pop\n",
      "Durian\n",
      "Canned Yams\n",
      "Apple\n",
      "\n",
      "Apple\n"
     ]
    }
   ],
   "source": [
    "class Stack:\n",
    "    data=[]\n",
    "\n",
    "    def is_empty(self):\n",
    "        return self.data==[]\n",
    "\n",
    "    def push(self, node):\n",
    "        self.data.append(node)\n",
    "\n",
    "    def pop(self):\n",
    "        if not self.is_empty():\n",
    "            value=self.data[-1]\n",
    "            del self.data[-1]\n",
    "            return value\n",
    "        else:\n",
    "            print(\"Nothing to pop\")\n",
    "\n",
    "    def print_stack(self):\n",
    "        for item in reversed(self.data):\n",
    "            print(item)\n",
    "\n",
    "\n",
    "\n",
    "fruit = Stack()\n",
    "fruit.pop()\n",
    "fruit.push(\"Apple\")\n",
    "fruit.push(\"Banana\")\n",
    "fruit.pop()\n",
    "fruit.push(\"Canned Yams\")\n",
    "fruit.push(\"Durian\")\n",
    "fruit.print_stack()\n",
    "\n",
    "print('')\n",
    "\n",
    "fruit.pop()\n",
    "fruit.pop()\n",
    "fruit.print_stack()\n",
    "\n"
   ]
  },
  {
   "cell_type": "markdown",
   "id": "b6fde12b",
   "metadata": {},
   "source": [
    "# Printing queue"
   ]
  },
  {
   "cell_type": "code",
   "execution_count": 25,
   "id": "7f7be046",
   "metadata": {},
   "outputs": [
    {
     "name": "stdout",
     "output_type": "stream",
     "text": [
      "Job 3\n",
      "Job 2\n",
      "Job 1\n",
      "\n",
      "Job 3\n"
     ]
    }
   ],
   "source": [
    " class Queue:\n",
    "    data=[]\n",
    "    \n",
    "    def is_empty(self):\n",
    "        return self.data==[]\n",
    "    \n",
    "    def enqueue(self, anode):\n",
    "        self.data.append(anode)\n",
    "\n",
    "    def dequeue(self):\n",
    "        if not self.is_empty():\n",
    "            value=self.data[0]\n",
    "            del self.data[0]\n",
    "            return value\n",
    "        else:\n",
    "            print(\"Nothing to dequeue\")\n",
    "\n",
    "    def print_queue(self):\n",
    "        for item in reversed(self.data):\n",
    "            print(item)\n",
    "            \n",
    "q=Queue()\n",
    "\n",
    "q.enqueue('Job 1')\n",
    "q.enqueue('Job 2')\n",
    "q.enqueue('Job 3')\n",
    "q.print_queue()\n",
    "\n",
    "print('')\n",
    "\n",
    "\n",
    "q.dequeue()\n",
    "q.dequeue()\n",
    "q.print_queue()"
   ]
  },
  {
   "cell_type": "markdown",
   "id": "4d3acdac",
   "metadata": {},
   "source": [
    "# Practice Programs"
   ]
  },
  {
   "cell_type": "markdown",
   "id": "63042fcd",
   "metadata": {},
   "source": [
    "# Stacks"
   ]
  },
  {
   "cell_type": "code",
   "execution_count": 10,
   "id": "1ece76ee",
   "metadata": {},
   "outputs": [
    {
     "name": "stdout",
     "output_type": "stream",
     "text": [
      "c\n",
      "Apple\n",
      "Banana\n",
      "Canned Yams\n",
      "Durian\n",
      "Banana\n",
      "Canned Yams\n",
      "Durian\n"
     ]
    }
   ],
   "source": [
    "class Stack:\n",
    "    data=['a', 'b', 'c']\n",
    "\n",
    "    def is_empty(self):\n",
    "        return self.data==[]\n",
    "\n",
    "    def push(self, node):\n",
    "        self.data.append(node)\n",
    "\n",
    "    def pop(self):\n",
    "        if not self.is_empty():\n",
    "            value=self.data[-1]\n",
    "            del self.data[-1]\n",
    "            return value\n",
    "        else:\n",
    "            print(\"Nothing to pop\")\n",
    "\n",
    "    def print_stack(self):\n",
    "        for item in self.data:\n",
    "            print(item)\n",
    "\n",
    "\n",
    "\n",
    "fruit = Stack()\n",
    "fruit.pop()\n",
    "fruit.push(\"Apple\")\n",
    "fruit.push(\"Banana\")\n",
    "fruit.pop()\n",
    "fruit.push(\"Canned Yams\")\n",
    "fruit.push(\"Durian\")\n",
    "fruit.print_stack()\n",
    "fruit.pop()\n",
    "fruit.pop()\n",
    "fruit.print_stack()\n",
    "\n"
   ]
  },
  {
   "cell_type": "code",
   "execution_count": 12,
   "id": "93e78c7a",
   "metadata": {},
   "outputs": [],
   "source": [
    "class Stack:\n",
    "    data = ['a', 'b', 'c']\n",
    "\n",
    "    def is_empty(self):\n",
    "        return self.data == []\n",
    "\n",
    "    def push(self, node):\n",
    "        self.data.append(node)\n",
    "\n",
    "    def pop(self):\n",
    "        if not self.is_empty():\n",
    "            value = self.data[0]\n",
    "            del self.data[0]\n",
    "            return value\n",
    "        else:\n",
    "            print(\"Nothing to pop\")\n",
    "\n",
    "    def print_stack(self):\n",
    "        for item in self.data:\n",
    "            print(item)\n"
   ]
  },
  {
   "cell_type": "code",
   "execution_count": 3,
   "id": "6520d64b",
   "metadata": {},
   "outputs": [
    {
     "name": "stdout",
     "output_type": "stream",
     "text": [
      "Nothing to pop\n",
      "Apple\n",
      "Canned Yams\n",
      "Durian\n",
      "Apple\n"
     ]
    }
   ],
   "source": [
    "class Stack:\n",
    "    data=[]\n",
    "\n",
    "    def is_empty(self):\n",
    "        return self.data==[]\n",
    "\n",
    "    def push(self, node):\n",
    "        self.data.append(node)\n",
    "\n",
    "    def pop(self):\n",
    "        if not self.is_empty():\n",
    "            value=self.data[-1]\n",
    "            del self.data[-1]\n",
    "            return value\n",
    "        else:\n",
    "            print(\"Nothing to pop\")\n",
    "\n",
    "    def print_stack(self):\n",
    "        for item in self.data:\n",
    "            print(item)\n",
    "\n",
    "\n",
    "\n",
    "fruit = Stack()\n",
    "fruit.pop()\n",
    "fruit.push(\"Apple\")\n",
    "fruit.push(\"Banana\")\n",
    "fruit.pop()\n",
    "fruit.push(\"Canned Yams\")\n",
    "fruit.push(\"Durian\")\n",
    "fruit.print_stack()\n",
    "fruit.pop()\n",
    "fruit.pop()\n",
    "fruit.print_stack()\n",
    "\n"
   ]
  },
  {
   "cell_type": "markdown",
   "id": "df52973d",
   "metadata": {},
   "source": [
    "# Queue"
   ]
  },
  {
   "cell_type": "code",
   "execution_count": 14,
   "id": "c1bb73de",
   "metadata": {},
   "outputs": [
    {
     "name": "stdout",
     "output_type": "stream",
     "text": [
      "Job 1\n",
      "Job 2\n",
      "Job 3\n",
      "Job 3\n"
     ]
    }
   ],
   "source": [
    " class Queue:\n",
    "    data=[]\n",
    "    \n",
    "    def is_empty(self):\n",
    "        return self.data==[]\n",
    "    \n",
    "    def enqueue(self, anode):\n",
    "        self.data.append(anode)\n",
    "\n",
    "    def dequeue(self):\n",
    "        if not self.is_empty():\n",
    "            value=self.data[0]\n",
    "            del self.data[0]\n",
    "            return value\n",
    "        else:\n",
    "            print(\"Nothing to dequeue\")\n",
    "\n",
    "    def print_queue(self):\n",
    "        for item in self.data:\n",
    "            print(item)\n",
    "            \n",
    "q=Queue()\n",
    "\n",
    "q.enqueue('Job 1')\n",
    "q.enqueue('Job 2')\n",
    "q.enqueue('Job 3')\n",
    "q.print_queue()\n",
    "q.dequeue()\n",
    "q.dequeue()\n",
    "q.print_queue()"
   ]
  }
 ],
 "metadata": {
  "kernelspec": {
   "display_name": "Python 3 (ipykernel)",
   "language": "python",
   "name": "python3"
  },
  "language_info": {
   "codemirror_mode": {
    "name": "ipython",
    "version": 3
   },
   "file_extension": ".py",
   "mimetype": "text/x-python",
   "name": "python",
   "nbconvert_exporter": "python",
   "pygments_lexer": "ipython3",
   "version": "3.9.12"
  }
 },
 "nbformat": 4,
 "nbformat_minor": 5
}
