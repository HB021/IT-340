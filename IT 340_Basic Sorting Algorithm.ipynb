{
 "cells": [
  {
   "cell_type": "code",
   "execution_count": 8,
   "id": "07bf57df",
   "metadata": {},
   "outputs": [
    {
     "name": "stdout",
     "output_type": "stream",
     "text": [
      "[1, 2, 3, 4, 5, 6, 7, 8, 9, 10]\n"
     ]
    }
   ],
   "source": [
    "def insertion_sorting(given):\n",
    "    l = len(given)\n",
    "    for i in range(1, l):\n",
    "        key = given[i]\n",
    "        j = i - 1\n",
    "        while j >= 0 and key < given[j]:\n",
    "            given[j + 1] = given[j]\n",
    "            j -= 1\n",
    "        given[j + 1] = key\n",
    "    return given\n",
    "\n",
    "# Test the function\n",
    "print(insertion_sorting([5,2,4,3,10,7,1,9,6,8]))\n"
   ]
  },
  {
   "cell_type": "code",
   "execution_count": null,
   "id": "a98b032c",
   "metadata": {},
   "outputs": [],
   "source": [
    "#Bonus question"
   ]
  },
  {
   "cell_type": "code",
   "execution_count": 9,
   "id": "437ec62c",
   "metadata": {},
   "outputs": [
    {
     "name": "stdout",
     "output_type": "stream",
     "text": [
      "['apple', 'banana', 'cardamon', 'carrot', 'donut', 'mushrooms', 'pasta', 'taco']\n"
     ]
    }
   ],
   "source": [
    "def insertion_sorting_string(given):\n",
    "    l = len(given)\n",
    "    for i in range(1, l):\n",
    "        key = given[i]\n",
    "        j = i - 1\n",
    "        while j >= 0 and key < given[j]:\n",
    "            given[j + 1] = given[j]\n",
    "            j -= 1\n",
    "        given[j + 1] = key\n",
    "    return given\n",
    "\n",
    "# Test the function with an array of strings\n",
    "print(insertion_sorting_string(['banana', 'apple', 'carrot', 'cardamon', 'donut', 'taco', 'pasta', 'mushrooms']))\n"
   ]
  }
 ],
 "metadata": {
  "kernelspec": {
   "display_name": "Python 3 (ipykernel)",
   "language": "python",
   "name": "python3"
  },
  "language_info": {
   "codemirror_mode": {
    "name": "ipython",
    "version": 3
   },
   "file_extension": ".py",
   "mimetype": "text/x-python",
   "name": "python",
   "nbconvert_exporter": "python",
   "pygments_lexer": "ipython3",
   "version": "3.9.12"
  }
 },
 "nbformat": 4,
 "nbformat_minor": 5
}
